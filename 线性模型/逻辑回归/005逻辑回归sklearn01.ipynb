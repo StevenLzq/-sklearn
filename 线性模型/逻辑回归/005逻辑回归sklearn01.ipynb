{
 "cells": [
  {
   "cell_type": "code",
   "execution_count": 11,
   "metadata": {},
   "outputs": [
    {
     "data": {
      "text/plain": [
       "['data', 'target', 'DESCR', 'target_names', 'feature_names']"
      ]
     },
     "execution_count": 11,
     "metadata": {},
     "output_type": "execute_result"
    }
   ],
   "source": [
    "#数据载入\n",
    "from sklearn import datasets\n",
    "import pandas as pd \n",
    "\n",
    "iris=datasets.load_iris()\n",
    "#iris数据集是一个字典\n",
    "list(iris.keys())\n"
   ]
  },
  {
   "cell_type": "code",
   "execution_count": 14,
   "metadata": {},
   "outputs": [
    {
     "data": {
      "text/plain": [
       "array(['setosa', 'versicolor', 'virginica'], dtype='<U10')"
      ]
     },
     "execution_count": 14,
     "metadata": {},
     "output_type": "execute_result"
    }
   ],
   "source": [
    "#数据中的别四种花\n",
    "iris['target_names']"
   ]
  },
  {
   "cell_type": "code",
   "execution_count": 15,
   "metadata": {},
   "outputs": [
    {
     "data": {
      "text/plain": [
       "['sepal length (cm)',\n",
       " 'sepal width (cm)',\n",
       " 'petal length (cm)',\n",
       " 'petal width (cm)']"
      ]
     },
     "execution_count": 15,
     "metadata": {},
     "output_type": "execute_result"
    }
   ],
   "source": [
    "#我们有哪些特征\n",
    "iris['feature_names']"
   ]
  },
  {
   "cell_type": "code",
   "execution_count": 30,
   "metadata": {},
   "outputs": [
    {
     "data": {
      "text/plain": [
       "0.9777777777777777"
      ]
     },
     "execution_count": 30,
     "metadata": {},
     "output_type": "execute_result"
    }
   ],
   "source": [
    "import numpy as np\n",
    "from sklearn.linear_model import LogisticRegression\n",
    "\n",
    "from sklearn.cross_validation import train_test_split\n",
    "from sklearn.metrics import accuracy_score \n",
    "'''这部分我们先用petal wedth识别Virginica'''\n",
    "X=iris['data'][:,3:]\n",
    "y=(iris['target']==2).astype(np.int)#(iris['target']==2)判断是否为2返回True和False\n",
    "#训练集划分\n",
    "X_train,X_test, y_train, y_test  = train_test_split(\n",
    "                                    X,y,test_size=0.3, random_state=520)\n",
    "#建立分类器\n",
    "log_reg=LogisticRegression()\n",
    "\n",
    "#训练\n",
    "log_reg.fit(X_train,y_train)\n",
    "#预测\n",
    "y_pred=log_reg.predict(X_test)\n",
    "#准确率\n",
    "accuracy_score(y_test,y_pred)\n"
   ]
  },
  {
   "cell_type": "code",
   "execution_count": 36,
   "metadata": {},
   "outputs": [
    {
     "data": {
      "image/png": "[encoded data removed]",
      "text/plain": [
       "<Figure size 432x288 with 1 Axes>"
      ]
     },
     "metadata": {
      "needs_background": "light"
     },
     "output_type": "display_data"
    }
   ],
   "source": [
    "import matplotlib.pyplot as plt \n",
    "#打印一个模型估计花瓣宽度从0-3的概率估计\n",
    "#建立一个0-3的1000组均匀分布\n",
    "X_new=np.linspace(0,3,1000).reshape(-1,1)\n",
    "#predict_proba返回的是概率列表【正率，反率】\n",
    "y_proba=log_reg.predict_proba(X_new)\n",
    "plt.plot(X_new,y_proba[:,1],'g-')\n",
    "plt.plot(X_new,y_proba[:,0],'b--')\n",
    "plt.legend(labels=['iris-virginica','iris-notvirginica'])\n",
    "plt.title('virginica-proba')\n",
    "\n",
    "plt.show()\n",
    "#plt.plot(X_new,y_proba[:,1])"
   ]
  },
  {
   "cell_type": "code",
   "execution_count": null,
   "metadata": {},
   "outputs": [],
   "source": []
  }
 ],
 "metadata": {
  "kernelspec": {
   "display_name": "Python 3",
   "language": "python",
   "name": "python3"
  },
  "language_info": {
   "codemirror_mode": {
    "name": "ipython",
    "version": 3
   },
   "file_extension": ".py",
   "mimetype": "text/x-python",
   "name": "python",
   "nbconvert_exporter": "python",
   "pygments_lexer": "ipython3",
   "version": "3.5.2"
  },
  "latex_envs": {
   "LaTeX_envs_menu_present": true,
   "autoclose": false,
   "autocomplete": true,
   "bibliofile": "biblio.bib",
   "cite_by": "apalike",
   "current_citInitial": 1,
   "eqLabelWithNumbers": true,
   "eqNumInitial": 1,
   "hotkeys": {
    "equation": "Ctrl-E",
    "itemize": "Ctrl-I"
   },
   "labels_anchors": false,
   "latex_user_defs": false,
   "report_style_numbering": false,
   "user_envs_cfg": false
  }
 },
 "nbformat": 4,
 "nbformat_minor": 2
}
